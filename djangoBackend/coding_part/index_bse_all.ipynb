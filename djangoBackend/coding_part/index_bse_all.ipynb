{
 "cells": [
  {
   "cell_type": "code",
   "execution_count": 12,
   "metadata": {},
   "outputs": [],
   "source": [
    "# importing the libraries\n",
    "# Implementation of Linear Interpolation using Python3 code\n",
    "# Importing library\n",
    "from scipy.interpolate import interp1d\n",
    "import pandas as pd\n",
    "# Import math Library\n",
    "import math"
   ]
  },
  {
   "cell_type": "markdown",
   "metadata": {},
   "source": [
    "# usbm_crs-to-specific_energy\n"
   ]
  },
  {
   "cell_type": "code",
   "execution_count": null,
   "metadata": {},
   "outputs": [],
   "source": [
    "df_prcd=pd.read_csv(\"../data/usbm_crs-to-specific_energy.csv\")\n",
    "sig_in_prcd = df_prcd['crs']\n",
    "sig_out_prcd = df_prcd['specific_energy']\n",
    "\n",
    "X = sig_in_prcd\n",
    "Y = sig_out_prcd \n",
    "\n",
    "# Finding the interpolation\n",
    "y_interp = interp1d(X, Y,kind='linear')\n",
    "\n",
    "\n",
    "# testing\n",
    "trl=0.48777646\n",
    "print(\"Value of Y at x = {} is\".format(trl),y_interp(trl))"
   ]
  },
  {
   "cell_type": "code",
   "execution_count": 2,
   "metadata": {},
   "outputs": [],
   "source": [
    "from joblib import Parallel, delayed\n",
    "import joblib"
   ]
  },
  {
   "cell_type": "code",
   "execution_count": 4,
   "metadata": {},
   "outputs": [],
   "source": [
    "joblib.dump(y_interp, 'usbm_crs-to-specific_energy.pkl')\n",
    "usbm_crs_eo = joblib.load('usbm_crs-to-specific_energy.pkl')"
   ]
  },
  {
   "cell_type": "code",
   "execution_count": 5,
   "metadata": {},
   "outputs": [
    {
     "data": {
      "text/plain": [
       "array(1.84798733)"
      ]
     },
     "execution_count": 5,
     "metadata": {},
     "output_type": "execute_result"
    }
   ],
   "source": [
    "usbm_crs_eo(trl)"
   ]
  },
  {
   "attachments": {},
   "cell_type": "markdown",
   "metadata": {},
   "source": [
    "# ucs_crs"
   ]
  },
  {
   "cell_type": "code",
   "execution_count": 6,
   "metadata": {},
   "outputs": [
    {
     "name": "stdout",
     "output_type": "stream",
     "text": [
      "Value of Y at x = 86.11392678 is 0.49393842000000004\n"
     ]
    }
   ],
   "source": [
    "df_prcd=pd.read_csv(\"../data/usbm_ucs-to-crs.csv\")\n",
    "sig_in_prcd = df_prcd['ucs']\n",
    "sig_out_prcd = df_prcd['crs']\n",
    "\n",
    "X = sig_in_prcd\n",
    "Y = sig_out_prcd \n",
    "\n",
    "# Finding the interpolation\n",
    "y_interp = interp1d(X, Y,kind='cubic')\n",
    "\n",
    "\n",
    "# testing\n",
    "trl=86.11392678\n",
    "print(\"Value of Y at x = {} is\".format(trl),y_interp(trl))"
   ]
  },
  {
   "cell_type": "code",
   "execution_count": 7,
   "metadata": {},
   "outputs": [],
   "source": [
    "joblib.dump(y_interp, 'ucs_crs.pkl')"
   ]
  },
  {
   "cell_type": "code",
   "execution_count": 3,
   "metadata": {},
   "outputs": [],
   "source": [
    "ucs_crs = joblib.load('ucs_crs.pkl')"
   ]
  },
  {
   "cell_type": "code",
   "execution_count": 5,
   "metadata": {},
   "outputs": [
    {
     "data": {
      "text/plain": [
       "array(0.4568084)"
      ]
     },
     "execution_count": 5,
     "metadata": {},
     "output_type": "execute_result"
    }
   ],
   "source": [
    "trl=80\n",
    "ucs_crs(trl)"
   ]
  },
  {
   "cell_type": "code",
   "execution_count": 11,
   "metadata": {},
   "outputs": [
    {
     "data": {
      "text/plain": [
       "array(2.18189206)"
      ]
     },
     "execution_count": 11,
     "metadata": {},
     "output_type": "execute_result"
    }
   ],
   "source": [
    "usbm_crs_eo(ucs_crs(trl))"
   ]
  },
  {
   "cell_type": "markdown",
   "metadata": {},
   "source": [
    "# ucs-rpf_Calder_and_Workman"
   ]
  },
  {
   "cell_type": "code",
   "execution_count": null,
   "metadata": {},
   "outputs": [],
   "source": [
    "# data preprocessor"
   ]
  },
  {
   "cell_type": "code",
   "execution_count": 15,
   "metadata": {},
   "outputs": [],
   "source": [
    "# data preprocessing to make suitable for interpolation\n",
    "\n",
    "import numpy as np\n",
    "import pandas as pd\n"
   ]
  },
  {
   "cell_type": "code",
   "execution_count": 16,
   "metadata": {},
   "outputs": [],
   "source": [
    "\n",
    "\n",
    "df_load_csv=pd.read_csv(\"../data/ucs-rpf_Calder_and_Workman.csv\")\n",
    "x1 = df_load_csv['ucs']\n",
    "y1 = df_load_csv['rpf']\n",
    "\n",
    "\n",
    "x1_arr=np.array(x1)\n",
    "y1_arr=np.array(y1)\n",
    "x1_arr_res_plus_mius=2*(x1_arr.max()-x1_arr.min())/len(x1_arr)\n",
    "def in_to_out_match(val_in,res_plus_mius=x1_arr_res_plus_mius):\n",
    "    # print(x1)\n",
    "    ngt=val_in-res_plus_mius\n",
    "    pst=val_in+res_plus_mius\n",
    "    y_tmp_arr=y1_arr[np.logical_and(ngt<x1_arr,x1_arr<pst).nonzero()]\n",
    "    if len(y_tmp_arr)!=0:           # most critical part of code\n",
    "        tmp=np.average(y_tmp_arr)\n",
    "    else:\n",
    "        tmp=y1_arr[(np.abs(x1_arr-val_in)).argmin()]\n",
    "    return tmp\n",
    "    pass\n",
    "\n",
    "\n",
    "# in_vol=np.linspace(-320,320,1000)   # 1000 samples\n",
    "# in_vol=np.arange(-320,320,0.1)    # 0.1 as resolution\n",
    "in_vol=np.arange(np.min(x1_arr),np.max(x1_arr),1)    # 0.1 as resolution\n",
    "\n",
    "out_vol=[]   #np.array()\n",
    "\n",
    "for i in in_vol:\n",
    "    out_vol.append(in_to_out_match(i))"
   ]
  },
  {
   "cell_type": "code",
   "execution_count": 17,
   "metadata": {},
   "outputs": [],
   "source": [
    "\n",
    "#----------- add preporcesd data to csv file\n",
    "\n",
    "# importing pandas\n",
    "# import pandas as pd\n",
    "\n",
    "# creating a DataFrame\n",
    "data = {\n",
    "   'ucs': in_vol.tolist(),\n",
    "   'rpf': out_vol,\n",
    "}\n",
    "dataframe = pd.DataFrame(data)\n",
    "dataframe.to_csv('sig_preprsed_to_ucs-rpf_Calder_and_Workman.csv', index=False)"
   ]
  },
  {
   "cell_type": "code",
   "execution_count": null,
   "metadata": {},
   "outputs": [],
   "source": []
  },
  {
   "cell_type": "code",
   "execution_count": null,
   "metadata": {},
   "outputs": [],
   "source": [
    "# ucs_rf"
   ]
  },
  {
   "cell_type": "code",
   "execution_count": 18,
   "metadata": {},
   "outputs": [
    {
     "name": "stdout",
     "output_type": "stream",
     "text": [
      "Value of Y at x = 86.11392678 is 101.24702026809138\n"
     ]
    }
   ],
   "source": [
    "df_prcd=pd.read_csv(\"../data/sig_preprsed_to_ucs-rpf_Calder_and_Workman.csv\")\n",
    "sig_in_prcd = df_prcd['ucs']\n",
    "sig_out_prcd = df_prcd['rpf']\n",
    "\n",
    "X = sig_in_prcd\n",
    "Y = sig_out_prcd \n",
    "\n",
    "# Finding the interpolation\n",
    "y_interp = interp1d(X, Y,kind='cubic')\n",
    "\n",
    "\n",
    "# testing\n",
    "trl=86.11392678\n",
    "print(\"Value of Y at x = {} is\".format(trl),y_interp(trl))"
   ]
  },
  {
   "cell_type": "code",
   "execution_count": 21,
   "metadata": {},
   "outputs": [],
   "source": [
    "joblib.dump(y_interp, 'ucs-rpf_Calder_and_Workman.pkl')\n",
    "ucs_rpf_Calder_and_Workman = joblib.load('ucs-rpf_Calder_and_Workman.pkl')"
   ]
  },
  {
   "cell_type": "code",
   "execution_count": null,
   "metadata": {},
   "outputs": [],
   "source": []
  },
  {
   "cell_type": "code",
   "execution_count": null,
   "metadata": {},
   "outputs": [],
   "source": []
  },
  {
   "attachments": {},
   "cell_type": "markdown",
   "metadata": {},
   "source": [
    "# a) Rotary Percussive:"
   ]
  },
  {
   "cell_type": "code",
   "execution_count": null,
   "metadata": {},
   "outputs": [],
   "source": []
  },
  {
   "attachments": {},
   "cell_type": "markdown",
   "metadata": {},
   "source": [
    "## • USBM, 1969  .... Done"
   ]
  },
  {
   "cell_type": "code",
   "execution_count": null,
   "metadata": {},
   "outputs": [],
   "source": []
  },
  {
   "cell_type": "code",
   "execution_count": null,
   "metadata": {},
   "outputs": [],
   "source": [
    "# to find\n",
    "vp=None         # penetration rate (cm/min)\n",
    "# inputs\n",
    "Pm=None         # drill power (Kg m/min)        \n",
    "Rc=None         # energy transmission output (0.6-0.8)\n",
    "D=None          # blasthole dia (cm)\n",
    "Ucs=None        # of rock in MPa\n",
    "## -------formula n calculation\n",
    "#** Eo calulate from the graph\n",
    "Eo=None         # specific energy per unit volume (kg m/cm3)\n",
    "Eo=usbm_crs_eo(ucs_crs(Ucs))\n",
    "#  Result\n",
    "Vp= (48*Pm*Rc)/(math.pi*D**2*Eo)\n"
   ]
  },
  {
   "cell_type": "code",
   "execution_count": null,
   "metadata": {},
   "outputs": [],
   "source": [
    "# result in def function form\n",
    "def usbm_vp(Pm,Rc,D,Ucs):\n",
    "    Eo=usbm_crs_eo(ucs_crs(Ucs))\n",
    "    Vp= (48*Pm*Rc)/(pi*d**2*Eo)\n",
    "    return Vp"
   ]
  },
  {
   "cell_type": "code",
   "execution_count": null,
   "metadata": {},
   "outputs": [],
   "source": []
  },
  {
   "cell_type": "code",
   "execution_count": null,
   "metadata": {},
   "outputs": [],
   "source": []
  },
  {
   "attachments": {},
   "cell_type": "markdown",
   "metadata": {},
   "source": [
    "## •  Norway, 1979"
   ]
  },
  {
   "cell_type": "code",
   "execution_count": null,
   "metadata": {},
   "outputs": [],
   "source": [
    "# sj to dri relation\n",
    "#----- equtaion                                  SJ value\n",
    "\n",
    "# y=1.0086864954384898x−19.24564331180892       #0.5\n",
    "# y=1.0130551433667578x−14.923053925697715        #0.7\n",
    "# y=1.0094072808787404x−10.764726457540625        #1\n",
    "# y=1.0071784713695537x−6.984225209444418         #2\n",
    "# y=0.9930994640048791x−1.591297902437212         #5\n",
    "# y=0.9972494064508659x+1.4626384410005642        #10\n",
    "# y=1.008135993102191x+4.821175545046344          #20\n",
    "# y=0.9974240906071635x+9.84927489920986            #50\n",
    "# y=1.0027805483196273x+13.33702055556546        # 100\n",
    "# y=0.9906673680281025x+19.758893652006478        #130\n",
    "# y=0.9956383795578059x+23.53404732148158         #150\n",
    "# y=0.9969111851283519x+30.475161326403978        #200\n",
    "# y=1.0135789197470815x+33.34048396638005          #230"
   ]
  },
  {
   "cell_type": "code",
   "execution_count": null,
   "metadata": {},
   "outputs": [],
   "source": [
    "# # dri=m*brtnl+c\n",
    "# # sj=None\n",
    "\n",
    "# # sj to m relation\n",
    "# m = -2E-05*sj + 1.0038   # R² = 0.0328\n",
    "\n",
    "# # sj to c\n",
    "# c = 7.2718*ln(sj) - 13.57   # R² = 0.9474\n"
   ]
  },
  {
   "cell_type": "code",
   "execution_count": 5,
   "metadata": {},
   "outputs": [],
   "source": [
    "import math\n"
   ]
  },
  {
   "cell_type": "code",
   "execution_count": 11,
   "metadata": {},
   "outputs": [],
   "source": [
    "def brtnl_sj_to_dri(brtnl=50,sj=20):\n",
    "    m=-2e-05*sj + 1.0038\n",
    "    # print(c)\n",
    "    c=7.2718*math.log(sj) - 13.57\n",
    "    # print(math.log(sj))\n",
    "    dri=m*brtnl+c\n",
    "    return dri\n",
    "    pass"
   ]
  },
  {
   "cell_type": "code",
   "execution_count": 12,
   "metadata": {},
   "outputs": [
    {
     "data": {
      "text/plain": [
       "58.38436594682992"
      ]
     },
     "execution_count": 12,
     "metadata": {},
     "output_type": "execute_result"
    }
   ],
   "source": [
    "brtnl_sj_to_dri()"
   ]
  },
  {
   "cell_type": "code",
   "execution_count": null,
   "metadata": {},
   "outputs": [],
   "source": [
    "# dri to drilling rate (cm/min) in range"
   ]
  },
  {
   "cell_type": "code",
   "execution_count": null,
   "metadata": {},
   "outputs": [],
   "source": [
    "# 0.448221x−0.0793235\n",
    "\n",
    "# 0.536506x+0.759075\n",
    "\n",
    "# 0.709966x+2.9518\n",
    "\n",
    "# 0.937152x+3.85158\n",
    "\n",
    "# 1.22463x+5.5157\n",
    "\n",
    "# 1.39549x+9.70114\n",
    "\n",
    "# 1.61933x+18.0871\n",
    "\n",
    "# 1.96791x+21.963"
   ]
  },
  {
   "cell_type": "code",
   "execution_count": null,
   "metadata": {},
   "outputs": [],
   "source": [
    "# methods of drilling\n",
    "\"Hydraulic Top Hammer\"\n",
    "\"Pneumatic Top Hammer\"\n",
    "\"High Pressure DTH\"\n",
    "\"Hammer(25bar)\"\n",
    "\"RotaryConventional DTH\""
   ]
  },
  {
   "cell_type": "code",
   "execution_count": 14,
   "metadata": {},
   "outputs": [],
   "source": [
    "def dri_to_drilng_rt(dri,mth=\"RotaryConventional DTH\"):\n",
    "    if mth==\"RotaryConventional DTH\":\n",
    "        ini=0.448221*dri-0.0793235\n",
    "        fin=0.536506*dri+0.759075\n",
    "        return [ini,fin]\n",
    "    if mth==\"Hammer(25bar)\":\n",
    "        ini=0.536506*dri+0.759075\n",
    "        fin= 0.709966*dri+2.9518\n",
    "        # fin=0.937152*dri+3.85158\n",
    "        # fin=1.22463*dri+5.5157\n",
    "        return [ini,fin]\n",
    "    if mth==\"High Pressure DTH\":\n",
    "        ini=0.937152*dri+3.85158\n",
    "        fin=1.22463*dri+5.5157\n",
    "        # fin=1.39549*dri+9.70114\n",
    "        return [ini,fin]\n",
    "    if mth==\"Pneumatic Top Hammer\":\n",
    "        ini=1.22463*dri+5.5157\n",
    "        fin=1.39549*dri+9.70114\n",
    "        # fin=1.61933*dri+18.0871\n",
    "        return [ini,fin]\n",
    "    if mth==\"Hydraulic Top Hammer\":\n",
    "        ini=1.61933*dri+18.0871\n",
    "        fin=1.96791*dri+21.963\n",
    "        return [ini,fin]"
   ]
  },
  {
   "cell_type": "code",
   "execution_count": 19,
   "metadata": {},
   "outputs": [
    {
     "data": {
      "text/plain": [
       "[131.4402, 159.7167]"
      ]
     },
     "execution_count": 19,
     "metadata": {},
     "output_type": "execute_result"
    }
   ],
   "source": [
    "dri_to_drilng_rt(70,\"Hydraulic Top Hammer\")"
   ]
  },
  {
   "cell_type": "code",
   "execution_count": null,
   "metadata": {},
   "outputs": [],
   "source": [
    "# https://www.dcode.fr/function-equation-finder"
   ]
  },
  {
   "attachments": {},
   "cell_type": "markdown",
   "metadata": {},
   "source": [
    "## • Benaola, 1985 .... Done"
   ]
  },
  {
   "cell_type": "code",
   "execution_count": null,
   "metadata": {},
   "outputs": [],
   "source": [
    "# to find\n",
    "vp=None         # penetration rate (cm/min)\n",
    "# inputs\n",
    "Eg= None # energy per blow(found*foot)\n",
    "ng=None  # number of blows per min\n",
    "D=None          # blasthole dia (cm)\n",
    "Ip=None # unknow doubt\n",
    "\n",
    "## -------formula n calculation\n",
    "\n",
    "Lf=1.7*D-0.7\n",
    "#  Result\n",
    "Vp= (Eg*ng/(D*Lf**0.5))*1e-6*(51*Ip+90)\n"
   ]
  },
  {
   "cell_type": "code",
   "execution_count": null,
   "metadata": {},
   "outputs": [],
   "source": [
    "# result in def function form\n",
    "def Benaola_vp(Eg,ng,D,Ip):\n",
    "    Lf=1.7*D-0.7\n",
    "    Vp= (Eg*ng/(D*Lf**0.5))*1e-6*(51*Ip+90)\n",
    "    return Vp"
   ]
  },
  {
   "cell_type": "code",
   "execution_count": null,
   "metadata": {},
   "outputs": [],
   "source": []
  },
  {
   "cell_type": "markdown",
   "metadata": {},
   "source": [
    "## b) Rotary:\n"
   ]
  },
  {
   "cell_type": "code",
   "execution_count": null,
   "metadata": {},
   "outputs": [],
   "source": []
  },
  {
   "cell_type": "code",
   "execution_count": null,
   "metadata": {},
   "outputs": [],
   "source": []
  },
  {
   "cell_type": "code",
   "execution_count": null,
   "metadata": {},
   "outputs": [],
   "source": []
  },
  {
   "attachments": {},
   "cell_type": "markdown",
   "metadata": {},
   "source": [
    "## • Bauer and Calder, 1967 ... Done\n"
   ]
  },
  {
   "cell_type": "code",
   "execution_count": null,
   "metadata": {},
   "outputs": [],
   "source": [
    "# math.log10(2.7183)"
   ]
  },
  {
   "cell_type": "code",
   "execution_count": null,
   "metadata": {},
   "outputs": [],
   "source": [
    "# to find\n",
    "vp=None         # penetration rate (feet/hr)\n",
    "# inputs\n",
    "k=None          # some rock fctr (1.4 to 1.75)\n",
    "E=None         # drill power (lb/inch dia)        \n",
    "Rc=None         # ucs of rock in (lb/inch^2)\n",
    "\n",
    "## -------formula n calculation\n",
    "rhs=k*(math.log10(E/(Rc/12)))\n",
    "#  Result\n",
    "Vp= 6*(10**rhs)\n"
   ]
  },
  {
   "cell_type": "code",
   "execution_count": null,
   "metadata": {},
   "outputs": [],
   "source": [
    "# result in def function form\n",
    "def Calder_and_Workman_vp(k,E,Rc):\n",
    "    rhs=k*(math.log10(E/(Rc/12)))\n",
    "    Vp= 6*(10**rhs)\n",
    "    return Vp"
   ]
  },
  {
   "cell_type": "code",
   "execution_count": null,
   "metadata": {},
   "outputs": [],
   "source": []
  },
  {
   "attachments": {},
   "cell_type": "markdown",
   "metadata": {},
   "source": [
    "## • Baurer, 1971 .... Done\n"
   ]
  },
  {
   "cell_type": "code",
   "execution_count": null,
   "metadata": {},
   "outputs": [],
   "source": []
  },
  {
   "cell_type": "code",
   "execution_count": null,
   "metadata": {},
   "outputs": [],
   "source": [
    "# to find\n",
    "Vp=None         # penetration rate (feet/hr)\n",
    "# inputs\n",
    "Rc=None         # ucs of rock in (lb/inch^2)\n",
    "E=None         # unitary feed force (lb)\n",
    "D=None          # blasthole dia (inch)\n",
    "Nr=None          # rotary speed (r/min)\n",
    "        \n",
    "\n",
    "\n",
    "# ## -------formula n calculation\n",
    "# rhs=k*(math.log10(E/(Rc/12)))\n",
    "#  Result\n",
    "Vp= (61-28*math.log10(Rc))*(E/D)*(Nr/300)\n"
   ]
  },
  {
   "cell_type": "code",
   "execution_count": null,
   "metadata": {},
   "outputs": [],
   "source": [
    "# result in def function form\n",
    "def baurer_vp(Rc,E,D,Nr):\n",
    "    Vp= (61-28*math.log10(Rc))*(E/D)*(Nr/300)\n",
    "    return Vp"
   ]
  },
  {
   "cell_type": "code",
   "execution_count": null,
   "metadata": {},
   "outputs": [],
   "source": []
  },
  {
   "cell_type": "code",
   "execution_count": null,
   "metadata": {},
   "outputs": [],
   "source": []
  },
  {
   "cell_type": "code",
   "execution_count": null,
   "metadata": {},
   "outputs": [],
   "source": []
  },
  {
   "attachments": {},
   "cell_type": "markdown",
   "metadata": {},
   "source": [
    "## • Calder and Workman, 1994..... Done"
   ]
  },
  {
   "cell_type": "code",
   "execution_count": null,
   "metadata": {},
   "outputs": [],
   "source": []
  },
  {
   "cell_type": "code",
   "execution_count": null,
   "metadata": {},
   "outputs": [],
   "source": [
    "# to find\n",
    "Vp=None         # penetration rate (m/hr)\n",
    "# inputs\n",
    "Rf=None         # rock penetration factor\n",
    "Rc=None         # ucs of rock in (MPa)\n",
    "E=None         # unitary feed force per mm bit (kg/mm)\n",
    "# D=None          # blasthole dia (inch)\n",
    "Nr=None          # rotary speed (r/min)\n",
    "        \n",
    "\n",
    "\n",
    "## -------formula n calculation\n",
    "Rf=ucs_rpf_Calder_and_Workman(Rc)\n",
    "\n",
    "#  Result\n",
    "Vp= 57e-6*(Rf-28*math.log10(0.145*Rc))*E*Nr \n"
   ]
  },
  {
   "cell_type": "code",
   "execution_count": null,
   "metadata": {},
   "outputs": [],
   "source": [
    "# result in def function form\n",
    "def Calder_Workman(Rc,E,Nr):\n",
    "    Rf=ucs_rpf_Calder_and_Workman(Rc)\n",
    "    Vp= 57e-6*(Rf-28*math.log10(0.145*Rc))*E*Nr \n",
    "    return Vp"
   ]
  },
  {
   "cell_type": "code",
   "execution_count": null,
   "metadata": {},
   "outputs": [],
   "source": []
  },
  {
   "cell_type": "code",
   "execution_count": null,
   "metadata": {},
   "outputs": [],
   "source": []
  },
  {
   "cell_type": "code",
   "execution_count": null,
   "metadata": {},
   "outputs": [],
   "source": []
  }
 ],
 "metadata": {
  "kernelspec": {
   "display_name": "Python 3",
   "language": "python",
   "name": "python3"
  },
  "language_info": {
   "codemirror_mode": {
    "name": "ipython",
    "version": 3
   },
   "file_extension": ".py",
   "mimetype": "text/x-python",
   "name": "python",
   "nbconvert_exporter": "python",
   "pygments_lexer": "ipython3",
   "version": "3.9.6"
  },
  "orig_nbformat": 4
 },
 "nbformat": 4,
 "nbformat_minor": 2
}
